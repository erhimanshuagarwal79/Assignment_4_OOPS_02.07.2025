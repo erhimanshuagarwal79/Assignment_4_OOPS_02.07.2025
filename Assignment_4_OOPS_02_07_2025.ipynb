{
  "cells": [
    {
      "cell_type": "markdown",
      "id": "gVdaYBuZxVZY",
      "metadata": {
        "id": "gVdaYBuZxVZY"
      },
      "source": [
        "### What is Object-Oriented Programming (OOP)?\n",
        "\n",
        "Object-Oriented Programming (OOP) is a programming paradigm based on the concept of 'objects', which contain data and methods. It helps in organizing complex programs, promotes code reuse, and improves maintainability.\n"
      ]
    },
    {
      "cell_type": "markdown",
      "id": "0aS4Bs7XxVZa",
      "metadata": {
        "id": "0aS4Bs7XxVZa"
      },
      "source": [
        "### What is a class in OOP?\n",
        "\n",
        "- The class is a user-defined data structure that combines the methods and data members into a single entity. For the production of objects, classes serve as blueprints or code templates. You can make as many objects as you desire using a class."
      ]
    },
    {
      "cell_type": "markdown",
      "id": "mXPQnduDxVZa",
      "metadata": {
        "id": "mXPQnduDxVZa"
      },
      "source": [
        "### What is an object in OOP?\n",
        "\n",
        "- An instance of a class is an object. It consists of a set of methods and attributes. Actions are carried out using a class's object. Objects have two qualities: They exhibit states and actions. (The object is equipped with properties and methods) Methods represent its behaviour, while attributes represent its state. We can alter its status by using its techniques."
      ]
    },
    {
      "cell_type": "markdown",
      "id": "erbcIEL2xVZb",
      "metadata": {
        "id": "erbcIEL2xVZb"
      },
      "source": [
        "### What is the difference between abstraction and encapsulation\n",
        "\n",
        "- Abstraction focuses on what an object does, while encapsulation focuses on how it does it. Abstraction hides unnecessary details and complexity by exposing only essential information, while encapsulation bundles data and methods that operate on that data within a single unit, also known as a class, and controls access to that data.\n",
        "\n",
        "- **Abstraction**:\n",
        "- Concept: Hides the complex implementation details of a system or object and presents a simplified view.\n",
        "- Focus: What an object does, rather than how it does it.\n",
        "Example: A car's dashboard. You can see the speedometer and gas gauge, but you don't need to know how the engine works to drive it.\n",
        "- Implementation: Achieved through abstract classes and interfaces.\n",
        "\n",
        "- **Encapsulation**:\n",
        "- Concept: Bundles data (attributes) and methods that operate on that data into a single unit (a class) and restricts direct access to the data from outside the class.\n",
        "- Focus: Bundling data and methods, and controlling access to them.\n",
        "Example: A car's engine. The engine's internal components and workings are hidden, and you interact with it through the accelerator, brake, and steering wheel.\n",
        "- Implementation: Achieved through access modifiers like private, protected, and public."
      ]
    },
    {
      "cell_type": "markdown",
      "id": "4xslsbDcxVZb",
      "metadata": {
        "id": "4xslsbDcxVZb"
      },
      "source": [
        "### What are dunder methods in Python\n",
        "\n",
        "- Dunder methods, also known as magic methods or special methods, in Python are special reserved methods that are surrounded by double underscores (i.e., __method__). These methods allow you to define how instances of your classes behave when they are used with built-in Python functions or operators. Understanding dunder methods is crucial for creating custom objects that behave like built-in types or implementing operator overloading in Python."
      ]
    },
    {
      "cell_type": "markdown",
      "id": "TJkroRofxVZc",
      "metadata": {
        "id": "TJkroRofxVZc"
      },
      "source": [
        "### Explain the concept of inheritance in OOP\n",
        "\n",
        "- Inheritance plays a significant role in an object-oriented programming language, Inheritance in python refers to the process of a child class receiving the parent classe's properties. The reuse of code is inheritance's main goal. Instead of starting from scratch when developing a new class, we can use the existing class instead of re-creating it from scratch."
      ]
    },
    {
      "cell_type": "markdown",
      "id": "tlorTx5yxVZc",
      "metadata": {
        "id": "tlorTx5yxVZc"
      },
      "source": [
        "### What is polymorphism in OOP\n",
        "\n",
        "- In OOP, polymorphism refers to an object's capacity to assume several forms.\n",
        "Simply said, polymorphism enables us to carry out a single activity in a variety of ways. From the Greek words poly (many) and morphism (forms), we get polymorphism. Polymorphism is the capacity to assume several shapes."
      ]
    },
    {
      "cell_type": "markdown",
      "id": "0UXUDIRBxVZd",
      "metadata": {
        "id": "0UXUDIRBxVZd"
      },
      "source": [
        "### How is encapsulation achieved in Python\n",
        "\n",
        "Encapsulation is achieved using private and protected members with `_` or `__` prefixes and providing getter/setter methods.\n"
      ]
    },
    {
      "cell_type": "code",
      "execution_count": null,
      "id": "AYy3n1H847PR",
      "metadata": {
        "colab": {
          "base_uri": "https://localhost:8080/"
        },
        "id": "AYy3n1H847PR",
        "outputId": "97a91781-3346-43bf-b19c-f101d764f5fc"
      },
      "outputs": [
        {
          "name": "stdout",
          "output_type": "stream",
          "text": [
            "Initial balance: 1000\n",
            "Balance after deposit: 1200\n",
            "Balance after withdrawal: 700\n",
            "Balance cannot be negative.\n",
            "Balance after invalid attempt: 700\n"
          ]
        }
      ],
      "source": [
        "class BankAccount:\n",
        "    def __init__(self, initial_balance):\n",
        "        self.__balance = initial_balance  # Private attribute using name mangling\n",
        "\n",
        "    @property\n",
        "    def balance(self):\n",
        "        \"\"\"Getter for the balance.\"\"\"\n",
        "        return self.__balance\n",
        "\n",
        "    @balance.setter\n",
        "    def balance(self, amount):\n",
        "        \"\"\"Setter for the balance with validation.\"\"\"\n",
        "        if amount >= 0:\n",
        "            self.__balance = amount\n",
        "        else:\n",
        "            print(\"Balance cannot be negative.\")\n",
        "\n",
        "    def deposit(self, amount):\n",
        "        if amount > 0:\n",
        "            self.__balance += amount\n",
        "        else:\n",
        "            print(\"Deposit amount must be positive.\")\n",
        "\n",
        "    def withdraw(self, amount):\n",
        "        if 0 < amount <= self.__balance:\n",
        "            self.__balance -= amount\n",
        "        else:\n",
        "            print(\"Invalid withdrawal amount or insufficient funds.\")\n",
        "\n",
        "# Usage\n",
        "account = BankAccount(1000)\n",
        "print(f\"Initial balance: {account.balance}\")\n",
        "\n",
        "account.deposit(200)\n",
        "print(f\"Balance after deposit: {account.balance}\")\n",
        "\n",
        "account.withdraw(500)\n",
        "print(f\"Balance after withdrawal: {account.balance}\")\n",
        "\n",
        "account.balance = -100 # This will trigger the setter's validation\n",
        "print(f\"Balance after invalid attempt: {account.balance}\")\n",
        "\n",
        "# Attempting to directly access the mangled name (possible but discouraged)\n",
        "# print(account._BankAccount__balance)"
      ]
    },
    {
      "cell_type": "markdown",
      "id": "pMlPqkA0xVZd",
      "metadata": {
        "id": "pMlPqkA0xVZd"
      },
      "source": [
        "### What is a constructor in Python\n",
        "\n",
        "- A constructor is a particular method used in object-oriented programming to\n",
        "generate and initialise an object of a class. In the class, this method is defined.\n",
        "When an object is created, the constructor is automatically run.Declaring and initialising a class's instance and data member variables is the main function of the constructor. An object's attributes are initialised by the constructor, which is a collection of statements (i.e., instructions) that run when an object is created."
      ]
    },
    {
      "cell_type": "markdown",
      "id": "UzDc7xTcxVZd",
      "metadata": {
        "id": "UzDc7xTcxVZd"
      },
      "source": [
        "### What are class and static methods in Python\n",
        "\n",
        "- `@classmethod`: used to access or alter the class state. If we exclusively use class variables when implementing a method, we should declare that method as a class method. Receives the class as the first argument (`cls`).\n",
        "- `@staticmethod` : It is a general utility method that handles a single task. Since this method is static and doesn't have access to class attributes, we don't use instance or class variables within it. It does not receive any special first argument."
      ]
    },
    {
      "cell_type": "markdown",
      "id": "Lt38l4E3xVZe",
      "metadata": {
        "id": "Lt38l4E3xVZe"
      },
      "source": [
        "### What is method overloading in Python\n",
        "\n",
        "- Method overloading is the practice of invoking the same method more than\n",
        "once with different parameters. Method overloading is not supported by Python. Even if you overload the method, Python only takes into account the most recent definition. If you overload a method in Python, a TypeError will be raised.\n"
      ]
    },
    {
      "cell_type": "markdown",
      "id": "ItQpVkWsxVZe",
      "metadata": {
        "id": "ItQpVkWsxVZe"
      },
      "source": [
        "### What is method overriding in OOP\n",
        "\n",
        "- In Python, method overriding is the process of providing a different\n",
        "implementation for a method that is already defined in the superclass within a subclass. It enables the subclass to define its own version of a method with the same name and parameters as the method in the superclass. When a method is overridden, the subclass implements the method in its own way, which overrides the behaviour defined in the superclass. The subclass can then alter or expand the functionality of the inherited method.\n",
        "- The name, parameters, and return type of the overridden method in the subclass must match those of the method in the superclass. Method overriding occurs only when the subclass has a method with the same name and signature as the superclass method.\n",
        "- When a subclass object is used to call the overridden method during runtime, the subclass implementation is invoked rather than the superclass implementation. A crucial element of polymorphism is the dynamic dispatch of methods based on the actual object type."
      ]
    },
    {
      "cell_type": "markdown",
      "id": "4VOdDO06xVZe",
      "metadata": {
        "id": "4VOdDO06xVZe"
      },
      "source": [
        "### What is a property decorator in Python\n",
        "\n",
        "- The `@property` decorator in Python is a built-in decorator that transforms a method within a class into a \"property,\" allowing it to be accessed like an attribute while still encapsulating underlying logic. It provides a clean and controlled way to manage attribute access, modification, and deletion."
      ]
    },
    {
      "cell_type": "markdown",
      "id": "ybF1bkvcxVZf",
      "metadata": {
        "id": "ybF1bkvcxVZf"
      },
      "source": [
        "### Why is polymorphism important in OOP\n",
        "\n",
        "- Polymorphism is crucial in object-oriented programming because it enables code reusability, flexibility, and modularity, making it easier to write, maintain, and extend complex software systems. It allows objects of different classes to be treated as objects of a common type, promoting cleaner, more adaptable code.\n",
        "\n",
        "Here's why polymorphism is important:\n",
        "- **Code Reusability:**\n",
        "Polymorphism, especially through inheritance and method overriding, allows developers to reuse existing code (methods) in different contexts without modification. This reduces redundancy and speeds up development.\n",
        "- **Flexibility and Extensibility:**\n",
        "Polymorphism makes it easier to add new classes or functionality without impacting existing code. New subclasses can be added that implement the same methods as their parent classes, or new methods can be added to existing classes, without breaking existing code that relies on the parent class.\n",
        "- **Modularity and Maintainability**:\n",
        "Polymorphism promotes modular code design, where different parts of the system can be developed and maintained independently. This makes it easier to understand, debug, and modify the code over time.\n",
        "- **Abstraction**:\n",
        "Polymorphism allows you to work with objects at a higher level of abstraction, focusing on their behavior rather than their specific implementation details.\n",
        "- **Improved Code Readability**:\n",
        "Polymorphism can make code more readable by allowing the use of a single method name for similar operations on different objects, rather than having to use different method names for each object type.\n",
        "- **Simplified Debugging**:\n",
        "Polymorphism can simplify debugging by allowing you to treat objects of different types in a uniform way, making it easier to track down errors."
      ]
    },
    {
      "cell_type": "markdown",
      "id": "ctoXTphOxVZf",
      "metadata": {
        "id": "ctoXTphOxVZf"
      },
      "source": [
        "### What is an abstract class in Python\n",
        "\n",
        "- An abstract class in Python is a class that cannot be instantiated directly and serves as a blueprint or template for other classes. It is designed to be subclassed, and its primary purpose is to define a common interface or structure that its subclasses must adhere to."
      ]
    },
    {
      "cell_type": "markdown",
      "id": "BuFEu0VoxVZf",
      "metadata": {
        "id": "BuFEu0VoxVZf"
      },
      "source": [
        "### What are the advantages of OOP\n",
        "\n",
        "- Following are detailed advantages of OOPS:\n",
        "- **Modularity and Code Organization:**\n",
        "OOP allows for breaking down complex problems into smaller, manageable objects, each with its own data and methods. This modular approach makes the code easier to understand, develop, and maintain.\n",
        "- **Reusability:**\n",
        "OOP promotes code reuse through inheritance and polymorphism. This means that you can create new objects based on existing ones, inheriting their properties and methods, or use the same method name for different objects, allowing for flexible and efficient code utilization.\n",
        "- **Flexibility and Extensibility:**\n",
        "OOP allows for easy modification and extension of code. New features can be added without significantly altering existing code, making it easier to adapt to changing requirements.\n",
        "- **Maintainability:**\n",
        "Encapsulation, a key concept in OOP, hides the internal implementation details of an object, protecting its data and functionality. This encapsulation makes it easier to maintain and update code without affecting other parts of the system.\n",
        "- **Data Security:**\n",
        "OOP's encapsulation feature helps in protecting sensitive data by restricting access to it. This ensures that data is only accessed and modified by authorized methods within the object, improving data security.\n",
        "- **Problem-Solving:**\n",
        "OOP provides a structured approach to problem-solving by breaking down complex problems into smaller, manageable objects. This makes it easier to analyze, design, and implement solutions.\n",
        "- **Collaboration:**\n",
        "OOP facilitates collaboration among developers by providing a clear structure and modular design. Different developers can work on different objects or modules without interfering with each other's work.\n",
        "- **Scalability:**\n",
        "OOP systems can be easily scaled to handle larger and more complex applications by adding new objects or extending existing ones.\n",
        "- **Debugging and Troubleshooting:**\n",
        "OOP's modular design and encapsulation make it easier to identify and fix errors. When an error occurs, it is easier to isolate the problem to a specific object, rather than having to sift through the entire codebase."
      ]
    },
    {
      "cell_type": "markdown",
      "id": "HocBcpQexVZf",
      "metadata": {
        "id": "HocBcpQexVZf"
      },
      "source": [
        "### What is the difference between a class variable and an instance variable\n",
        "\n",
        "- `Instance variables:` Instance variables are properties that are joined to a class instance. In the constructor (the class's init() method), we define instance variables.\n",
        "- `Class Variables:` A variable that is declared inside a class but outside of any instance methods or init() methods is referred to as a class variable."
      ]
    },
    {
      "cell_type": "markdown",
      "id": "mxR5eRBhxVZf",
      "metadata": {
        "id": "mxR5eRBhxVZf"
      },
      "source": [
        "### What is multiple inheritance in Python\n",
        "\n",
        "- Multiple inheritance in Python is a feature of object-oriented programming where a class can inherit attributes and methods from more than one parent class. This allows a child class to combine functionalities and characteristics from multiple sources."
      ]
    },
    {
      "cell_type": "code",
      "execution_count": null,
      "id": "o9j8uOIXApDz",
      "metadata": {
        "colab": {
          "base_uri": "https://localhost:8080/"
        },
        "id": "o9j8uOIXApDz",
        "outputId": "2f0e4e6f-dfd2-4e94-d6e1-e5071dbf39c1"
      },
      "outputs": [
        {
          "name": "stdout",
          "output_type": "stream",
          "text": [
            "Method from ParentClass1\n",
            "Method from ParentClass2\n",
            "Childmethod\n"
          ]
        }
      ],
      "source": [
        "class ParentClass1:\n",
        "  def method1(self):\n",
        "    print(\"Method from ParentClass1\")\n",
        "\n",
        "class ParentClass2:\n",
        "  def method2(self):\n",
        "    print(\"Method from ParentClass2\")\n",
        "class ChildClass(ParentClass1, ParentClass2):\n",
        "  def child_method(self):\n",
        "    print(\"Childmethod\")\n",
        "\n",
        "child = ChildClass()\n",
        "child.method1()        #Output: Method from parentclass 1\n",
        "child.method2()        #Output: Method from parentclass 2\n",
        "child.child_method()   #Output:child method"
      ]
    },
    {
      "cell_type": "markdown",
      "id": "J8eGlAgfxVZg",
      "metadata": {
        "id": "J8eGlAgfxVZg"
      },
      "source": [
        "### Explain the purpose of `__str__` and `__repr__` methods in Python\n",
        "\n",
        "- In Python, __str__ and __repr__ are special methods, also known as dunder methods, that define how an object is represented as a string. They serve different purposes and are intended for different audiences.\n",
        "- **__str__ (for users):**\n",
        "- This method provides a user-friendly and readable string representation of an object.\n",
        "- It is called when you use the print() function or the str() built-in function on an object.\n",
        "- The output of __str__ should be concise and easily understandable by someone using the program, not necessarily a developer examining the object's internal state.\n",
        "- **__repr__ (for developers):**\n",
        "- This method provides a developer-friendly and unambiguous string representation of an object.\n",
        "- It is called when you use the repr() built-in function or when an object is displayed in an interactive Python interpreter (like the REPL) without explicitly calling print().\n",
        "- The output of __repr__ should ideally be a string that, if passed to eval(), would recreate the original object (though this is not always strictly possible). It aims to be a complete representation of the object's state, useful for debugging and introspection."
      ]
    },
    {
      "cell_type": "markdown",
      "id": "GrIhIzh6xVZg",
      "metadata": {
        "id": "GrIhIzh6xVZg"
      },
      "source": [
        "### What is the significance of the `super()` function in Python\n",
        "\n",
        "- The super() function in Python holds significant importance in the context of object-oriented programming, particularly concerning inheritance. Its primary significance lies in enabling access to methods and properties of a parent or sibling class from within a child or subclass.\n",
        "\n",
        "Key aspects of its significance include:\n",
        "\n",
        "- **Method Overriding and Extension:**\n",
        "super() facilitates method overriding by allowing a subclass to invoke a method from its parent class even when the subclass has defined a method with the same name. This enables the subclass to extend or modify the parent's method's behavior while still leveraging its core functionality.\n",
        "- **Proper Initialization in Inheritance Hierarchies:**\n",
        "When dealing with class hierarchies, especially in constructors (__init__ methods), super().__init__() ensures that the initialization logic of all parent classes in the Method Resolution Order (MRO) is executed correctly before the subclass's own initialization. This guarantees that inherited attributes and properties are properly set up.\n",
        "- **Code Reusability and Maintainability:**\n",
        "By enabling access to parent class methods, super() promotes code reusability, reducing the need to duplicate code in subclasses. This also enhances code maintainability as changes in the parent class's methods can be propagated through the inheritance hierarchy without requiring extensive modifications in child classes.\n",
        "- **Handling Multiple Inheritance:**\n",
        "In scenarios involving multiple inheritance, super() plays a crucial role in navigating the complex MRO and ensuring that methods from all relevant parent classes are called in the correct order, preventing unexpected behavior or errors.\n",
        "- **Dynamic Resolution of Parent Classes:**\n",
        "super() provides a dynamic way to refer to the parent class, as it doesn't require explicitly naming the parent class. This allows for more flexible and adaptable code, especially if the inheritance structure might change."
      ]
    },
    {
      "cell_type": "markdown",
      "id": "g-ykBWAAxVZg",
      "metadata": {
        "id": "g-ykBWAAxVZg"
      },
      "source": [
        "### What is the significance of the `__del__` method in Python\n",
        "\n",
        "- The __del__ method in Python, also known as a destructor or finalizer, is a special method defined within a class that is invoked when an object is about to be garbage collected. Its primary significance lies in enabling resource cleanup and finalization tasks when an object is no longer referenced and is being removed from memory.\n",
        "\n",
        "Key aspects of __del__:\n",
        "\n",
        "- **Resource Management:**\n",
        "The __del__ method provides a mechanism to release external resources held by an object, such as closing open files, network connections, or database connections, and releasing locks. This helps prevent resource leaks and ensures proper system hygiene.\n",
        "- **Garbage Collection Integration:**\n",
        "It is called by Python's garbage collector when the reference count of an object drops to zero, indicating that there are no longer any active references to that object in the program.\n",
        "- **Destructor Behavior:**\n",
        "While conceptually similar to destructors in other languages, __del__ in Python is not guaranteed to be called in all circumstances (e.g., if the program terminates abnormally or if circular references prevent immediate garbage collection). Therefore, it should not be solely relied upon for critical cleanup operations.\n",
        "- **Alternatives for Reliable Cleanup:**\n",
        "For guaranteed resource release, particularly in scenarios involving file I/O or other critical resources, using context managers with the with statement and implementing the __enter__ and __exit__ methods is generally preferred over __del__."
      ]
    },
    {
      "cell_type": "markdown",
      "id": "Nb029p6NxVZg",
      "metadata": {
        "id": "Nb029p6NxVZg"
      },
      "source": [
        "### What is the difference between @staticmethod and @classmethod in Python\n",
        "\n",
        "- **Static Method:** It is a general utility method that handles a single task. Since this method is static and doesn't have access to class attributes, we don't use instance or class variables within it.\n",
        "\n",
        "- **Class Method:** used to access or alter the class state. If we exclusively use class variables when implementing a method, we should declare that method as a class method.\n"
      ]
    },
    {
      "cell_type": "markdown",
      "id": "-BYsMwAJxVZg",
      "metadata": {
        "id": "-BYsMwAJxVZg"
      },
      "source": [
        "### How does polymorphism work in Python with inheritance\n",
        "\n",
        "- Polymorphism in Python, when combined with inheritance, primarily manifests through method overriding. This allows subclasses to provide specific implementations for methods already defined in their parent classes, while still maintaining a common interface.\n",
        "\n",
        "Here's how it works:\n",
        "\n",
        "- **Inheritance:**\n",
        "A child class (subclass) inherits attributes and methods from a parent class (superclass). This establishes an \"is-a\" relationship, meaning the subclass \"is a type of\" the superclass.\n",
        "- **Method Overriding:**\n",
        "If a child class needs to behave differently from its parent for a particular method, it can redefine that method with the same name and signature. This re-implementation in the child class overrides the parent's version.\n",
        "- **Polymorphic Behavior:**\n",
        "Because of method overriding, objects of different classes (the parent and its subclasses) can respond differently to the same method call, even though they share a common method name. This means you can write code that operates on a generic type (the parent class) and it will correctly invoke the specific implementation of the method based on the actual type of the object at runtime."
      ]
    },
    {
      "cell_type": "code",
      "execution_count": null,
      "id": "B2_6NCzmEsDi",
      "metadata": {
        "colab": {
          "base_uri": "https://localhost:8080/"
        },
        "id": "B2_6NCzmEsDi",
        "outputId": "505d8502-a14e-467e-c9ea-5ac4dcdb957f"
      },
      "outputs": [
        {
          "name": "stdout",
          "output_type": "stream",
          "text": [
            "Drive!\n",
            "Sail!\n",
            "Fly!\n"
          ]
        }
      ],
      "source": [
        "class Vehicle:\n",
        "    def __init__(self, brand, model):\n",
        "        self.brand = brand\n",
        "        self.model = model\n",
        "\n",
        "    def move(self):\n",
        "        print(\"Generic movement!\")\n",
        "\n",
        "class Car(Vehicle):\n",
        "    def move(self):\n",
        "        print(\"Drive!\")\n",
        "\n",
        "class Boat(Vehicle):\n",
        "    def move(self):\n",
        "        print(\"Sail!\")\n",
        "\n",
        "class Plane(Vehicle):\n",
        "    def move(self):\n",
        "        print(\"Fly!\")\n",
        "\n",
        "car1 = Car(\"Ford\", \"Mustang\")\n",
        "boat1 = Boat(\"Ibiza\", \"Touring 20\")\n",
        "plane1 = Plane(\"Boeing\", \"747\")\n",
        "\n",
        "for obj in (car1, boat1, plane1):\n",
        "    obj.move()"
      ]
    },
    {
      "cell_type": "markdown",
      "id": "7aCBSJz3xVZh",
      "metadata": {
        "id": "7aCBSJz3xVZh"
      },
      "source": [
        "### What is method chaining in Python OOP\n",
        "\n",
        "- Method chaining in Python OOP is a programming technique that allows multiple method calls to be invoked sequentially on the same object in a single expression. This is achieved by having each method return the object itself (or a modified version of it) after performing its operation.\n",
        "\n",
        "How it works:\n",
        "\n",
        "- **Methods return self:**\n",
        "For method chaining to work, each method in a class that is intended to be part of a chain must return self (the instance of the object) after it has completed its task.\n",
        "- **Sequential invocation:**\n",
        "When a method is called, it performs its operation and then returns the object. This returned object then becomes the subject of the next method call in the chain.\n",
        "\n",
        "- Benefits:\n",
        "- **Readability and Conciseness:**\n",
        "Method chaining can make code more readable and concise by eliminating the need for intermediate variables to store the result of each method call.\n",
        "- **Fluent Interfaces:**\n",
        "It enables the creation of fluent interfaces, where code reads more like a natural language sentence, enhancing expressiveness.\n",
        "- **Reduced Boilerplate:**\n",
        "It reduces boilerplate code by allowing multiple operations on an object to be expressed in a single line or statement."
      ]
    },
    {
      "cell_type": "code",
      "execution_count": null,
      "id": "V5KhwUqSG_1j",
      "metadata": {
        "colab": {
          "base_uri": "https://localhost:8080/"
        },
        "id": "V5KhwUqSG_1j",
        "outputId": "a0beba02-78cc-4142-a785-b034736dcfb0"
      },
      "outputs": [
        {
          "name": "stdout",
          "output_type": "stream",
          "text": [
            "24\n"
          ]
        }
      ],
      "source": [
        "class Calculator:\n",
        "    def __init__(self, value=0):\n",
        "        self.value = value\n",
        "\n",
        "    def add(self, num):\n",
        "        self.value += num\n",
        "        return self  # Return self for chaining\n",
        "\n",
        "    def subtract(self, num):\n",
        "        self.value -= num\n",
        "        return self  # Return self for chaining\n",
        "\n",
        "    def multiply(self, num):\n",
        "        self.value *= num\n",
        "        return self  # Return self for chaining\n",
        "\n",
        "    def get_value(self):\n",
        "        return self.value\n",
        "\n",
        "# Chaining method calls\n",
        "result = Calculator(10).add(5).subtract(3).multiply(2).get_value()\n",
        "print(result)"
      ]
    },
    {
      "cell_type": "markdown",
      "id": "Z-X6taFIxVZh",
      "metadata": {
        "id": "Z-X6taFIxVZh"
      },
      "source": [
        "### What is the purpose of the `__call__` method in Python?\n",
        "\n",
        "- The purpose of the __call__ method in Python is to make instances of a class callable, meaning they can be invoked like functions.\n",
        "When a class defines the __call__ method, you can treat an object created from that class as if it were a function. When you \"call\" the object (e.g., my_object(arg1, arg2)), the __call__ method of that object is automatically executed, receiving the arguments passed during the call.\n",
        "\n",
        "This functionality is useful for:\n",
        "- **Creating callable objects:**\n",
        "You can encapsulate specific functionality within an object and then call that object directly, making the code more organized and potentially more readable.\n",
        "- **Implementing decorators as classes:**\n",
        "Instead of using nested functions or closures, you can define a decorator as a class with a __call__ method.\n",
        "- **Creating function-like objects with state:**\n",
        "Unlike pure functions, callable objects can maintain internal state across multiple calls, which can be valuable in various programming patterns, such as implementing custom function objects in machine learning libraries."
      ]
    },
    {
      "cell_type": "code",
      "execution_count": null,
      "id": "OEBMjbI9xVZh",
      "metadata": {
        "id": "OEBMjbI9xVZh"
      },
      "outputs": [],
      "source": [
        "# Create a parent class Animal with a method speak() that prints a generic message. Create a child class Dog that overrides the speak() method to print \"Bark!\".\n",
        "# Animal and Dog classes with overridden speak() method\n",
        "\n",
        "class Animal:\n",
        "    def speak(self):\n",
        "        print(\"This is a generic animal.\")\n",
        "\n",
        "class Dog(Animal):\n",
        "    def speak(self):\n",
        "        print(\"Bark!\")"
      ]
    },
    {
      "cell_type": "code",
      "execution_count": null,
      "id": "Isq97c8MHzYh",
      "metadata": {
        "colab": {
          "base_uri": "https://localhost:8080/"
        },
        "id": "Isq97c8MHzYh",
        "outputId": "3e6e4cd4-af78-4ad1-d37c-701cf0a59ccb"
      },
      "outputs": [
        {
          "name": "stdout",
          "output_type": "stream",
          "text": [
            "This is a generic animal.\n",
            "Bark!\n"
          ]
        }
      ],
      "source": [
        "a = Animal()\n",
        "a.speak()\n",
        "\n",
        "d = Dog()\n",
        "d.speak()"
      ]
    },
    {
      "cell_type": "code",
      "execution_count": null,
      "id": "cGx30Y5axVZi",
      "metadata": {
        "colab": {
          "base_uri": "https://localhost:8080/"
        },
        "id": "cGx30Y5axVZi",
        "outputId": "aca829ff-2379-4922-e93d-7c3ee592853e"
      },
      "outputs": [
        {
          "name": "stdout",
          "output_type": "stream",
          "text": [
            "Circle Area: 78.5\n",
            "Rectangle Area: 24\n"
          ]
        }
      ],
      "source": [
        "# Write a program to create an abstract class Shape with a method area(). Derive classes Circle and Rectangle from it and implement the area() method in both.\n",
        "# Abstract class Shape with Circle and Rectangle\n",
        "\n",
        "from abc import ABC, abstractmethod\n",
        "\n",
        "class Shape(ABC):\n",
        "    @abstractmethod\n",
        "    def area(self):\n",
        "        pass\n",
        "\n",
        "class Circle(Shape):\n",
        "    def __init__(self, radius):\n",
        "        self.radius = radius\n",
        "\n",
        "    def area(self):\n",
        "        return 3.14 * self.radius * self.radius\n",
        "\n",
        "class Rectangle(Shape):\n",
        "    def __init__(self, width, height):\n",
        "        self.width = width\n",
        "        self.height = height\n",
        "\n",
        "    def area(self):\n",
        "        return self.width * self.height\n",
        "\n",
        "circle = Circle(5)\n",
        "print(\"Circle Area:\", circle.area())\n",
        "\n",
        "rectangle = Rectangle(4, 6)\n",
        "print(\"Rectangle Area:\", rectangle.area())"
      ]
    },
    {
      "cell_type": "code",
      "execution_count": null,
      "id": "3nmS-qYHxVZj",
      "metadata": {
        "colab": {
          "base_uri": "https://localhost:8080/"
        },
        "id": "3nmS-qYHxVZj",
        "outputId": "97fab3ee-8b7c-4838-cd04-e55378d83de8"
      },
      "outputs": [
        {
          "name": "stdout",
          "output_type": "stream",
          "text": [
            "Type: Electric\n",
            "Brand: Tesla\n",
            "Battery: 100 kWh\n"
          ]
        }
      ],
      "source": [
        "#. Implement a multi-level inheritance scenario where a class Vehicle has an attribute type. Derive a class Car and further derive a class ElectricCar that adds a battery attribute.\n",
        "# Multi-level inheritance: Vehicle → Car → ElectricCar\n",
        "\n",
        "class Vehicle:\n",
        "    def __init__(self, type):\n",
        "        self.type = type\n",
        "\n",
        "class Car(Vehicle):\n",
        "    def __init__(self, type, brand):\n",
        "        super().__init__(type)\n",
        "        self.brand = brand\n",
        "\n",
        "class ElectricCar(Car):\n",
        "    def __init__(self, type, brand, battery):\n",
        "        super().__init__(type, brand)\n",
        "        self.battery = battery\n",
        "\n",
        "ecar = ElectricCar(\"Electric\", \"Tesla\", \"100 kWh\")\n",
        "\n",
        "print(\"Type:\", ecar.type)\n",
        "print(\"Brand:\", ecar.brand)\n",
        "print(\"Battery:\", ecar.battery)"
      ]
    },
    {
      "cell_type": "code",
      "execution_count": null,
      "id": "30IPQ8HuK5_D",
      "metadata": {
        "colab": {
          "base_uri": "https://localhost:8080/"
        },
        "id": "30IPQ8HuK5_D",
        "outputId": "ebb012a3-d064-45b4-9d5a-b86a902dbb30"
      },
      "outputs": [
        {
          "name": "stdout",
          "output_type": "stream",
          "text": [
            "Sparrow flies high in the sky.\n",
            "Penguins cannot fly, they swim.\n"
          ]
        }
      ],
      "source": [
        "#Demonstrate polymorphism by creating a base class Bird with a method fly(). Create two derived classes Sparrow and Penguin that override the fly() method.\n",
        "\n",
        "# Base class\n",
        "class Bird:\n",
        "    def fly(self):\n",
        "        print(\"Some birds can fly.\")\n",
        "\n",
        "# Derived class 1\n",
        "class Sparrow(Bird):\n",
        "    def fly(self):\n",
        "        print(\"Sparrow flies high in the sky.\")\n",
        "\n",
        "# Derived class 2\n",
        "class Penguin(Bird):\n",
        "    def fly(self):\n",
        "        print(\"Penguins cannot fly, they swim.\")\n",
        "\n",
        "# Function to demonstrate polymorphism\n",
        "def bird_flight(bird):\n",
        "    bird.fly()\n",
        "\n",
        "# Create objects\n",
        "sparrow = Sparrow()\n",
        "penguin = Penguin()\n",
        "\n",
        "bird_flight(sparrow)\n",
        "bird_flight(penguin)"
      ]
    },
    {
      "cell_type": "code",
      "execution_count": null,
      "id": "j573AN-CLxFM",
      "metadata": {
        "id": "j573AN-CLxFM"
      },
      "outputs": [],
      "source": [
        "# Write a program to demonstrate encapsulation by creating a class BankAccount with private attributes balance and methods to deposit, withdraw, and check balance.\n",
        "\n",
        "class BankAccount:\n",
        "    def __init__(self, initial_balance=0):\n",
        "        self.__balance = initial_balance  # Private attribute\n",
        "\n",
        "    def deposit(self, amount):\n",
        "        if amount > 0:\n",
        "            self.__balance += amount\n",
        "            print(f\"Deposited: ₹{amount}\")\n",
        "        else:\n",
        "            print(\"Deposit amount must be positive.\")\n",
        "\n",
        "    def withdraw(self, amount):\n",
        "        if 0 < amount <= self.__balance:\n",
        "            self.__balance -= amount\n",
        "            print(f\"Withdrew: ₹{amount}\")\n",
        "        else:\n",
        "            print(\"Invalid amount or insufficient balance.\")\n",
        "\n",
        "    def check_balance(self):\n",
        "        print(f\"Current Balance: ₹{self.__balance}\")"
      ]
    },
    {
      "cell_type": "code",
      "execution_count": null,
      "id": "W90AZgunMHFj",
      "metadata": {
        "colab": {
          "base_uri": "https://localhost:8080/"
        },
        "id": "W90AZgunMHFj",
        "outputId": "63576ced-4dff-409a-e5d7-c26470617d7e"
      },
      "outputs": [
        {
          "name": "stdout",
          "output_type": "stream",
          "text": [
            "Current Balance: ₹1000\n",
            "Deposited: ₹500\n",
            "Withdrew: ₹300\n",
            "Current Balance: ₹1200\n"
          ]
        }
      ],
      "source": [
        "account = BankAccount(1000)\n",
        "\n",
        "# Perform operations\n",
        "account.check_balance()\n",
        "account.deposit(500)\n",
        "account.withdraw(300)\n",
        "account.check_balance()\n"
      ]
    },
    {
      "cell_type": "code",
      "execution_count": 22,
      "id": "xdT-dlw7MUWc",
      "metadata": {
        "colab": {
          "base_uri": "https://localhost:8080/"
        },
        "id": "xdT-dlw7MUWc",
        "outputId": "1e32c8ae-b7a7-4d7e-f3e7-a7e202f88668"
      },
      "outputs": [
        {
          "output_type": "stream",
          "name": "stdout",
          "text": [
            "Strumming the guitar\n",
            "Playing the piano\n"
          ]
        }
      ],
      "source": [
        "# Demonstrate runtime polymorphism using a method play() in a base class Instrument. Derive classes Guitar and Piano that implement their own version of play().\n",
        "\n",
        "\n",
        "# Base class\n",
        "class Instrument:\n",
        "    def play(self):\n",
        "        print(\"Instrument is being played\")\n",
        "\n",
        "# Derived class Guitar\n",
        "class Guitar(Instrument):\n",
        "    def play(self):\n",
        "        print(\"Strumming the guitar\")\n",
        "\n",
        "# Derived class Piano\n",
        "class Piano(Instrument):\n",
        "    def play(self):\n",
        "        print(\"Playing the piano\")\n",
        "\n",
        "# Function to demonstrate polymorphism\n",
        "def start_playing(instrument):\n",
        "    instrument.play()\n",
        "\n",
        "# Create objects of derived classes\n",
        "guitar = Guitar()\n",
        "piano = Piano()\n",
        "\n",
        "# Call the function with different objects\n",
        "start_playing(guitar)   # Output: Strumming the guitar\n",
        "start_playing(piano)"
      ]
    },
    {
      "cell_type": "code",
      "source": [
        "#Create a class MathOperations with a class method add_numbers() to add two numbers and a static method subtract_numbers() to subtract two numbers.\n",
        "\n",
        "class MathOperations:\n",
        "\n",
        "    # Class method to add two numbers\n",
        "    @classmethod\n",
        "    def add_numbers(cls, a, b):\n",
        "        return a + b\n",
        "\n",
        "    # Static method to subtract two numbers\n",
        "    @staticmethod\n",
        "    def subtract_numbers(a, b):\n",
        "        return a - b\n",
        "\n",
        "# Using the class method\n",
        "sum_result = MathOperations.add_numbers(10, 5)\n",
        "print(\"Sum:\", sum_result)  # Output: Sum: 15\n",
        "\n",
        "# Using the static method\n",
        "diff_result = MathOperations.subtract_numbers(10, 5)\n",
        "print(\"Difference:\", diff_result)"
      ],
      "metadata": {
        "colab": {
          "base_uri": "https://localhost:8080/"
        },
        "id": "wwSkmuV3Psa8",
        "outputId": "04f43075-526a-47f4-8c29-5288732a4caf"
      },
      "id": "wwSkmuV3Psa8",
      "execution_count": 23,
      "outputs": [
        {
          "output_type": "stream",
          "name": "stdout",
          "text": [
            "Sum: 15\n",
            "Difference: 5\n"
          ]
        }
      ]
    },
    {
      "cell_type": "code",
      "source": [
        "# Implement a class Person with a class method to count the total number of persons created.\n",
        "\n",
        "class Person:\n",
        "    # Class variable to keep count\n",
        "    count = 0\n",
        "\n",
        "    def __init__(self, name):\n",
        "        self.name = name\n",
        "        Person.count += 1  # Increment count when a new object is created\n",
        "\n",
        "    # Class method to get the count\n",
        "    @classmethod\n",
        "    def total_persons(cls):\n",
        "        return cls.count\n",
        "\n",
        "# Creating Person objects\n",
        "p1 = Person(\"Alice\")\n",
        "p2 = Person(\"Bob\")\n",
        "p3 = Person(\"Charlie\")\n",
        "\n",
        "# Getting total number of persons created\n",
        "print(\"Total persons created:\", Person.total_persons())"
      ],
      "metadata": {
        "colab": {
          "base_uri": "https://localhost:8080/"
        },
        "id": "chQEnSUEQyW-",
        "outputId": "3da00800-3f68-4fad-e92f-e84c132e5735"
      },
      "id": "chQEnSUEQyW-",
      "execution_count": 24,
      "outputs": [
        {
          "output_type": "stream",
          "name": "stdout",
          "text": [
            "Total persons created: 3\n"
          ]
        }
      ]
    },
    {
      "cell_type": "code",
      "source": [
        "#. Write a class Fraction with attributes numerator and denominator. Override the str method to display the fraction as \"numerator/denominator\".\n",
        "\n",
        "class Fraction:\n",
        "    def __init__(self, numerator, denominator):\n",
        "        self.numerator = numerator\n",
        "        self.denominator = denominator\n",
        "\n",
        "    # Override the __str__ method\n",
        "    def __str__(self):\n",
        "        return f\"{self.numerator}/{self.denominator}\"\n",
        "\n",
        "# Creating Fraction objects\n",
        "f1 = Fraction(3, 4)\n",
        "f2 = Fraction(7, 2)\n",
        "\n",
        "# Printing the fraction objects\n",
        "print(\"First fraction:\", f1)\n",
        "print(\"Second fraction:\", f2)"
      ],
      "metadata": {
        "colab": {
          "base_uri": "https://localhost:8080/"
        },
        "id": "eRwplZ48RpXw",
        "outputId": "ee9ee1cd-0ce4-4295-890f-47445e923ed6"
      },
      "id": "eRwplZ48RpXw",
      "execution_count": 25,
      "outputs": [
        {
          "output_type": "stream",
          "name": "stdout",
          "text": [
            "First fraction: 3/4\n",
            "Second fraction: 7/2\n"
          ]
        }
      ]
    },
    {
      "cell_type": "code",
      "source": [
        "# Demonstrate operator overloading by creating a class Vector and overriding the add method to add two vectors.\n",
        "\n",
        "class vector:\n",
        "  def __init__(self, x, y):\n",
        "    self.x = x\n",
        "    self.y = y\n",
        "\n",
        "  def __add__(self, other):\n",
        "    return vector(self.x + other.x, self.y + other.y)\n",
        "\n",
        "  def __str__(self):\n",
        "    return f\"({self.x}, {self.y})\"\n",
        "\n",
        "# Creating vector objects\n",
        "v1 = vector(1, 2)\n",
        "v2 = vector(3, 4)\n",
        "v3 = v1 + v2\n",
        "\n",
        "# Printing the vectors\n",
        "print(\"Vector 1:\", v1)\n",
        "print(\"Vector 2:\", v2)\n",
        "print(\"Vector 3 (v1 + v2):\", v3)"
      ],
      "metadata": {
        "colab": {
          "base_uri": "https://localhost:8080/"
        },
        "id": "x6wHu4VDRA4P",
        "outputId": "ad01554d-239c-42bf-f68e-1fc1c4a680cd"
      },
      "id": "x6wHu4VDRA4P",
      "execution_count": 32,
      "outputs": [
        {
          "output_type": "stream",
          "name": "stdout",
          "text": [
            "Vector 1: (1, 2)\n",
            "Vector 2: (3, 4)\n",
            "Vector 3 (v1 + v2): (4, 6)\n"
          ]
        }
      ]
    },
    {
      "cell_type": "code",
      "source": [
        "#Create a class Person with attributes name and age. Add a method greet() that prints \"Hello, my name is {name} and I am {age} years old\".\n",
        "\n",
        "class person:\n",
        "  def __init__(self, name, age):\n",
        "    self.name = name\n",
        "    self.age = age\n",
        "\n",
        "  def greet(self):\n",
        "    print(f\"Hello, my name is {self.name} and I am {self.age} years old.\")\n",
        "\n",
        "p1 = person(\"Himanshu\",29)\n",
        "\n",
        "p1.greet()"
      ],
      "metadata": {
        "colab": {
          "base_uri": "https://localhost:8080/"
        },
        "id": "IJaavuwqSvna",
        "outputId": "71379841-ed8d-4973-be29-84a377cfa788"
      },
      "id": "IJaavuwqSvna",
      "execution_count": 34,
      "outputs": [
        {
          "output_type": "stream",
          "name": "stdout",
          "text": [
            "Hello, my name is Himanshu and I am 29 years old.\n"
          ]
        }
      ]
    },
    {
      "cell_type": "code",
      "source": [
        "# Implement a class Student with attributes name and grades. Create a method average_grade() to compute the average of the grade.\n",
        "\n",
        "class student():\n",
        "  def __init__(self, name, grades):\n",
        "    self.name = name\n",
        "    self.grades = grades\n",
        "\n",
        "  def average_grade(self):\n",
        "    return sum(self.grades) / len(self.grades)\n",
        "\n",
        "  def __str__(self):\n",
        "    return f\"Student: {self.name}, Average Grade: {self.average_grade()}\"\n",
        "\n",
        "s = student(\"Himanshu\", [90, 85, 92, 78])\n",
        "print(s)"
      ],
      "metadata": {
        "colab": {
          "base_uri": "https://localhost:8080/"
        },
        "id": "tFPk6cyfTjRw",
        "outputId": "42e66f4b-97c9-4d05-8bae-bf746c63e641"
      },
      "id": "tFPk6cyfTjRw",
      "execution_count": 36,
      "outputs": [
        {
          "output_type": "stream",
          "name": "stdout",
          "text": [
            "Student: Himanshu, Average Grade: 86.25\n"
          ]
        }
      ]
    },
    {
      "cell_type": "code",
      "source": [
        "#Create a class Rectangle with methods set_dimensions() to set the dimensions and area() to calculate the area.\n",
        "\n",
        "class rectangle():\n",
        "  def __init__(self, length, width):\n",
        "    self.length = length\n",
        "    self.width = width\n",
        "\n",
        "  def set_dimensions(self, length, width):\n",
        "    self.length = length\n",
        "    self.width = width\n",
        "\n",
        "  def area(self):\n",
        "    return self.length * self.width\n",
        "\n",
        "rect = rectangle(5, 10)\n",
        "print(\"Area:\", rect.area())\n",
        "\n",
        "rect.set_dimensions(8, 12)\n",
        "print(\"New Area:\", rect.area())"
      ],
      "metadata": {
        "colab": {
          "base_uri": "https://localhost:8080/"
        },
        "id": "osuXzI_jUGea",
        "outputId": "8122b2e0-2e5f-47fd-ba71-9f85b9a2bd1d"
      },
      "id": "osuXzI_jUGea",
      "execution_count": 37,
      "outputs": [
        {
          "output_type": "stream",
          "name": "stdout",
          "text": [
            "Area: 50\n",
            "New Area: 96\n"
          ]
        }
      ]
    },
    {
      "cell_type": "code",
      "source": [
        "# Create a class Employee with a method calculate_salary() that computes the salary based on hours worked and hourly rate. Create a derived class Manager that adds a bonus to the salary.\n",
        "\n",
        "class Employee:\n",
        "    def __init__(self, name, hours_worked, hourly_rate):\n",
        "        self.name = name\n",
        "        self.hours_worked = hours_worked\n",
        "        self.hourly_rate = hourly_rate\n",
        "\n",
        "    def calculate_salary(self):\n",
        "        return self.hours_worked * self.hourly_rate\n",
        "\n",
        "# Derived class\n",
        "class Manager(Employee):\n",
        "    def __init__(self, name, hours_worked, hourly_rate, bonus):\n",
        "        super().__init__(name, hours_worked, hourly_rate)\n",
        "        self.bonus = bonus\n",
        "\n",
        "    def calculate_salary(self):\n",
        "        base_salary = super().calculate_salary()\n",
        "        return base_salary + self.bonus\n",
        "\n",
        "    def __str__(self):\n",
        "        return f\"Manager: {self.name}, Salary: ${self.calculate_salary()}\"\n",
        "\n",
        "# Create objects\n",
        "emp = Employee(\"Ajay\", 40, 50)\n",
        "mgr = Manager(\"Himanshu\", 40, 60, 500)\n",
        "\n",
        "# Output\n",
        "print(f\"{emp.name}'s salary: ${emp.calculate_salary()}\")\n",
        "print(f\"{mgr.name}'s salary: ${mgr.calculate_salary()}\")"
      ],
      "metadata": {
        "colab": {
          "base_uri": "https://localhost:8080/"
        },
        "id": "K3_D4syuUk8f",
        "outputId": "e9b8a79c-18ec-4e22-dded-e6d881e7a7e3"
      },
      "id": "K3_D4syuUk8f",
      "execution_count": 41,
      "outputs": [
        {
          "output_type": "stream",
          "name": "stdout",
          "text": [
            "Ajay's salary: $2000\n",
            "Himanshu's salary: $2900\n"
          ]
        }
      ]
    },
    {
      "cell_type": "code",
      "source": [
        "#Create a class Product with attributes name, price, and quantity. Implement a method total_price() that calculates the total price of the product.\n",
        "\n",
        "class Product:\n",
        "    def __init__(self, name, price, quantity):\n",
        "        self.name = name\n",
        "        self.price = price\n",
        "        self.quantity = quantity\n",
        "\n",
        "    # Method to calculate total price\n",
        "    def total_price(self):\n",
        "        return self.price * self.quantity\n",
        "\n",
        "product1 = Product(\"Laptop\", 1200, 2)\n",
        "product2 = Product(\"Smartphone\", 800, 3)\n",
        "\n",
        "print(f\"The total price for {product1.name} is: Rs.{product1.total_price()}\")\n",
        "print(f\"The total price for {product2.name} is: Rs.{product2.total_price()}\")"
      ],
      "metadata": {
        "colab": {
          "base_uri": "https://localhost:8080/"
        },
        "id": "3n9hK36IVYZ7",
        "outputId": "2137c38d-c23c-4e66-e00f-2c330b562b1c"
      },
      "id": "3n9hK36IVYZ7",
      "execution_count": 43,
      "outputs": [
        {
          "output_type": "stream",
          "name": "stdout",
          "text": [
            "The total price for Laptop is: Rs.2400\n",
            "The total price for Smartphone is: Rs.2400\n"
          ]
        }
      ]
    },
    {
      "cell_type": "code",
      "source": [
        "#Create a class Animal with an abstract method sound(). Create two derived classes Cow and Sheep that implement the sound() method.\n",
        "\n",
        "from abc import ABC, abstractmethod\n",
        "\n",
        "# Abstract base class\n",
        "class Animal(ABC):\n",
        "    @abstractmethod\n",
        "    def sound(self):\n",
        "        pass\n",
        "\n",
        "# Derived class Cow\n",
        "class Cow(Animal):\n",
        "    def sound(self):\n",
        "        return \"Moo\"\n",
        "\n",
        "# Derived class Sheep\n",
        "class Sheep(Animal):\n",
        "    def sound(self):\n",
        "        return \"Baa\"\n",
        "\n",
        "cow = Cow()\n",
        "sheep = Sheep()\n",
        "\n",
        "print(\"Cow sound:\", cow.sound())\n",
        "print(\"Sheep sound:\", sheep.sound())"
      ],
      "metadata": {
        "colab": {
          "base_uri": "https://localhost:8080/"
        },
        "id": "AVbUCgUFWgoJ",
        "outputId": "0def84ea-a3ae-451a-ffbb-33fcd365953f"
      },
      "id": "AVbUCgUFWgoJ",
      "execution_count": 44,
      "outputs": [
        {
          "output_type": "stream",
          "name": "stdout",
          "text": [
            "Cow sound: Moo\n",
            "Sheep sound: Baa\n"
          ]
        }
      ]
    },
    {
      "cell_type": "code",
      "source": [
        "# Create a class Book with attributes title, author, and year_published. Add a method get_book_info() that returns a formatted string with the book's details.\n",
        "\n",
        "class Book:\n",
        "    def __init__(self, title, author, year_published):\n",
        "        self.title = title\n",
        "        self.author = author\n",
        "        self.year_published = year_published\n",
        "\n",
        "    def get_book_info(self):\n",
        "        return f\"Title: {self.title}\\nAuthor: {self.author}\\nYear Published: {self.year_published}\"\n",
        "\n",
        "    def __str__(self):\n",
        "        return self.get_book_info()\n",
        "\n",
        "book1 = Book(\"Python\", \"Harper Lee\", 2020)\n",
        "book2 = Book(\"Stats\", \"Paulo Coelho\", 2000)\n",
        "\n",
        "print(book1.get_book_info())\n",
        "print(\"\\n\")\n",
        "print(book2.get_book_info())"
      ],
      "metadata": {
        "colab": {
          "base_uri": "https://localhost:8080/"
        },
        "id": "RCPCfAzAW2ly",
        "outputId": "06585d6c-2f59-4e64-94b4-6ff7fe214923"
      },
      "id": "RCPCfAzAW2ly",
      "execution_count": 48,
      "outputs": [
        {
          "output_type": "stream",
          "name": "stdout",
          "text": [
            "Title: Python\n",
            "Author: Harper Lee\n",
            "Year Published: 2020\n",
            "\n",
            "\n",
            "Title: Stats\n",
            "Author: Paulo Coelho\n",
            "Year Published: 2000\n"
          ]
        }
      ]
    },
    {
      "cell_type": "code",
      "source": [
        "# Create a class House with attributes address and price. Create a derived class Mansion that adds an attribute number_of_rooms\n",
        "\n",
        "class House:\n",
        "    def __init__(self, address, price):\n",
        "        self.address = address\n",
        "        self.price = price\n",
        "\n",
        "    def get_info(self):\n",
        "        return f\"Address: {self.address}\\nPrice: ₹{self.price}\"\n",
        "\n",
        "class Mansion(House):\n",
        "    def __init__(self, address, price, number_of_rooms):\n",
        "        super().__init__(address, price)\n",
        "        self.number_of_rooms = number_of_rooms\n",
        "\n",
        "    def get_info(self):\n",
        "        return f\"{super().get_info()}\\nNumber of Rooms: {self.number_of_rooms}\"\n",
        "\n",
        "# Create objects\n",
        "house1 = House(\"123 Park Street\", 5000000)\n",
        "mansion1 = Mansion(\"1 Elite Avenue\", 25000000, 10)\n",
        "\n",
        "# Output\n",
        "print(\"House Info:\")\n",
        "print(house1.get_info())\n",
        "print(\"\\nMansion Info:\")\n",
        "print(mansion1.get_info())"
      ],
      "metadata": {
        "colab": {
          "base_uri": "https://localhost:8080/"
        },
        "id": "PHgcJ_MPXZKL",
        "outputId": "cc00aa06-6119-4a1d-f02f-7eddb09b8536"
      },
      "id": "PHgcJ_MPXZKL",
      "execution_count": 50,
      "outputs": [
        {
          "output_type": "stream",
          "name": "stdout",
          "text": [
            "House Info:\n",
            "Address: 123 Park Street\n",
            "Price: ₹5000000\n",
            "\n",
            "Mansion Info:\n",
            "Address: 1 Elite Avenue\n",
            "Price: ₹25000000\n",
            "Number of Rooms: 10\n"
          ]
        }
      ]
    },
    {
      "cell_type": "code",
      "source": [],
      "metadata": {
        "id": "pGaNo28hYTpD"
      },
      "id": "pGaNo28hYTpD",
      "execution_count": null,
      "outputs": []
    }
  ],
  "metadata": {
    "colab": {
      "provenance": []
    },
    "kernelspec": {
      "display_name": "Python 3",
      "language": "python",
      "name": "python3"
    },
    "language_info": {
      "name": "python",
      "version": "3.10"
    }
  },
  "nbformat": 4,
  "nbformat_minor": 5
}